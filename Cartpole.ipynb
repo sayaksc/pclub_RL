{
 "cells": [
  {
   "cell_type": "code",
   "execution_count": 2,
   "metadata": {},
   "outputs": [
    {
     "name": "stderr",
     "output_type": "stream",
     "text": [
      "Using TensorFlow backend.\n"
     ]
    }
   ],
   "source": [
    "import numpy as np\n",
    "import gym\n",
    "\n",
    "from keras.models import Sequential\n",
    "from keras.layers import Dense, Activation, Flatten\n",
    "from keras.optimizers import Adam\n",
    "\n",
    "from rl.agents.dqn import DQNAgent\n",
    "from rl.policy import EpsGreedyQPolicy\n",
    "from rl.memory import SequentialMemory\n"
   ]
  },
  {
   "cell_type": "code",
   "execution_count": 3,
   "metadata": {},
   "outputs": [
    {
     "name": "stdout",
     "output_type": "stream",
     "text": [
      "\u001b[33mWARN: gym.spaces.Box autodetected dtype as <class 'numpy.float32'>. Please provide explicit dtype.\u001b[0m\n"
     ]
    }
   ],
   "source": [
    "ENV_NAME = 'CartPole-v0'\n",
    "\n",
    "# Get the environment and extract the number of actions available in the Cartpole problem\n",
    "env = gym.make(ENV_NAME)\n",
    "np.random.seed(123)\n",
    "env.seed(123)\n",
    "nb_actions = env.action_space.n\n",
    "# print(nb_actions)"
   ]
  },
  {
   "cell_type": "code",
   "execution_count": 5,
   "metadata": {},
   "outputs": [
    {
     "name": "stdout",
     "output_type": "stream",
     "text": [
      "(1, 4)\n"
     ]
    }
   ],
   "source": [
    "input_shape=(1,) + env.observation_space.shape\n",
    "print(input_shape)"
   ]
  },
  {
   "cell_type": "code",
   "execution_count": 19,
   "metadata": {},
   "outputs": [
    {
     "name": "stdout",
     "output_type": "stream",
     "text": [
      "_________________________________________________________________\n",
      "Layer (type)                 Output Shape              Param #   \n",
      "=================================================================\n",
      "flatten_3 (Flatten)          (None, 4)                 0         \n",
      "_________________________________________________________________\n",
      "dense_5 (Dense)              (None, 16)                80        \n",
      "_________________________________________________________________\n",
      "activation_5 (Activation)    (None, 16)                0         \n",
      "_________________________________________________________________\n",
      "dense_6 (Dense)              (None, 2)                 34        \n",
      "_________________________________________________________________\n",
      "activation_6 (Activation)    (None, 2)                 0         \n",
      "=================================================================\n",
      "Total params: 114\n",
      "Trainable params: 114\n",
      "Non-trainable params: 0\n",
      "_________________________________________________________________\n",
      "None\n"
     ]
    }
   ],
   "source": [
    "model = Sequential()\n",
    "model.add(Flatten(input_shape=(1,) + env.observation_space.shape))\n",
    "model.add(Dense(16))\n",
    "model.add(Activation('relu'))\n",
    "model.add(Dense(nb_actions))\n",
    "model.add(Activation('linear'))\n",
    "print(model.summary())"
   ]
  },
  {
   "cell_type": "code",
   "execution_count": 20,
   "metadata": {},
   "outputs": [],
   "source": [
    "policy = EpsGreedyQPolicy()\n",
    "memory = SequentialMemory(limit=50000, window_length=1)\n",
    "dqn = DQNAgent(model=model, nb_actions=nb_actions, memory=memory, nb_steps_warmup=10,\n",
    "target_model_update=1e-2, policy=policy)\n",
    "dqn.compile(Adam(lr=1e-2), metrics=['mae'])\n"
   ]
  },
  {
   "cell_type": "code",
   "execution_count": 21,
   "metadata": {
    "scrolled": false
   },
   "outputs": [
    {
     "name": "stdout",
     "output_type": "stream",
     "text": [
      "Training for 15000 steps ...\n"
     ]
    },
    {
     "name": "stderr",
     "output_type": "stream",
     "text": [
      "/usr/local/lib/python3.5/dist-packages/rl/memory.py:39: UserWarning: Not enough entries to sample without replacement. Consider increasing your warm-up phase to avoid oversampling!\n",
      "  warnings.warn('Not enough entries to sample without replacement. Consider increasing your warm-up phase to avoid oversampling!')\n"
     ]
    },
    {
     "name": "stdout",
     "output_type": "stream",
     "text": [
      "    62/15000: episode: 1, duration: 0.837s, episode steps: 62, steps per second: 74, episode reward: 62.000, mean reward: 1.000 [1.000, 1.000], mean action: 0.516 [0.000, 1.000], mean observation: 0.037 [-0.402, 0.639], loss: 0.144909, mean_absolute_error: 0.420378, mean_q: 0.625707\n",
      "    83/15000: episode: 2, duration: 0.080s, episode steps: 21, steps per second: 261, episode reward: 21.000, mean reward: 1.000 [1.000, 1.000], mean action: 0.476 [0.000, 1.000], mean observation: 0.132 [-0.368, 1.203], loss: 0.008572, mean_absolute_error: 0.553426, mean_q: 1.223205\n",
      "   119/15000: episode: 3, duration: 0.151s, episode steps: 36, steps per second: 239, episode reward: 36.000, mean reward: 1.000 [1.000, 1.000], mean action: 0.417 [0.000, 1.000], mean observation: 0.071 [-1.138, 2.191], loss: 0.008687, mean_absolute_error: 0.673664, mean_q: 1.394034\n",
      "   145/15000: episode: 4, duration: 0.102s, episode steps: 26, steps per second: 254, episode reward: 26.000, mean reward: 1.000 [1.000, 1.000], mean action: 0.385 [0.000, 1.000], mean observation: 0.072 [-1.213, 2.249], loss: 0.011416, mean_absolute_error: 0.812399, mean_q: 1.645947\n",
      "   241/15000: episode: 5, duration: 0.358s, episode steps: 96, steps per second: 268, episode reward: 96.000, mean reward: 1.000 [1.000, 1.000], mean action: 0.490 [0.000, 1.000], mean observation: -0.119 [-0.923, 0.494], loss: 0.009316, mean_absolute_error: 1.064881, mean_q: 2.111257\n",
      "   390/15000: episode: 6, duration: 0.537s, episode steps: 149, steps per second: 277, episode reward: 149.000, mean reward: 1.000 [1.000, 1.000], mean action: 0.477 [0.000, 1.000], mean observation: -0.094 [-1.269, 0.426], loss: 0.023978, mean_absolute_error: 1.592530, mean_q: 3.154482\n",
      "   403/15000: episode: 7, duration: 0.049s, episode steps: 13, steps per second: 268, episode reward: 13.000, mean reward: 1.000 [1.000, 1.000], mean action: 0.769 [0.000, 1.000], mean observation: -0.105 [-2.515, 1.610], loss: 0.050703, mean_absolute_error: 1.946769, mean_q: 3.842948\n",
      "   425/15000: episode: 8, duration: 0.081s, episode steps: 22, steps per second: 272, episode reward: 22.000, mean reward: 1.000 [1.000, 1.000], mean action: 0.727 [0.000, 1.000], mean observation: -0.064 [-3.120, 1.951], loss: 0.040180, mean_absolute_error: 2.045036, mean_q: 4.064383\n",
      "   457/15000: episode: 9, duration: 0.124s, episode steps: 32, steps per second: 259, episode reward: 32.000, mean reward: 1.000 [1.000, 1.000], mean action: 0.469 [0.000, 1.000], mean observation: 0.119 [-0.541, 1.506], loss: 0.100427, mean_absolute_error: 2.145339, mean_q: 4.230529\n",
      "   470/15000: episode: 10, duration: 0.050s, episode steps: 13, steps per second: 261, episode reward: 13.000, mean reward: 1.000 [1.000, 1.000], mean action: 0.846 [0.000, 1.000], mean observation: -0.104 [-2.709, 1.742], loss: 0.044424, mean_absolute_error: 2.203550, mean_q: 4.432667\n",
      "   527/15000: episode: 11, duration: 0.214s, episode steps: 57, steps per second: 266, episode reward: 57.000, mean reward: 1.000 [1.000, 1.000], mean action: 0.596 [0.000, 1.000], mean observation: 0.007 [-2.982, 2.106], loss: 0.056481, mean_absolute_error: 2.350576, mean_q: 4.719702\n",
      "   542/15000: episode: 12, duration: 0.055s, episode steps: 15, steps per second: 271, episode reward: 15.000, mean reward: 1.000 [1.000, 1.000], mean action: 0.800 [0.000, 1.000], mean observation: -0.077 [-2.788, 1.801], loss: 0.118417, mean_absolute_error: 2.468252, mean_q: 4.999448\n",
      "   683/15000: episode: 13, duration: 0.510s, episode steps: 141, steps per second: 276, episode reward: 141.000, mean reward: 1.000 [1.000, 1.000], mean action: 0.496 [0.000, 1.000], mean observation: 0.008 [-0.536, 1.651], loss: 0.105130, mean_absolute_error: 2.834705, mean_q: 5.685468\n",
      "   762/15000: episode: 14, duration: 0.293s, episode steps: 79, steps per second: 270, episode reward: 79.000, mean reward: 1.000 [1.000, 1.000], mean action: 0.582 [0.000, 1.000], mean observation: 0.053 [-3.257, 2.525], loss: 0.087206, mean_absolute_error: 3.247129, mean_q: 6.561686\n",
      "   831/15000: episode: 15, duration: 0.257s, episode steps: 69, steps per second: 268, episode reward: 69.000, mean reward: 1.000 [1.000, 1.000], mean action: 0.493 [0.000, 1.000], mean observation: 0.084 [-0.700, 1.369], loss: 0.101015, mean_absolute_error: 3.526524, mean_q: 7.148240\n",
      "   895/15000: episode: 16, duration: 0.237s, episode steps: 64, steps per second: 270, episode reward: 64.000, mean reward: 1.000 [1.000, 1.000], mean action: 0.609 [0.000, 1.000], mean observation: 0.101 [-3.158, 2.695], loss: 0.086664, mean_absolute_error: 3.815692, mean_q: 7.732119\n",
      "   984/15000: episode: 17, duration: 0.326s, episode steps: 89, steps per second: 273, episode reward: 89.000, mean reward: 1.000 [1.000, 1.000], mean action: 0.506 [0.000, 1.000], mean observation: 0.072 [-0.565, 1.174], loss: 0.085475, mean_absolute_error: 4.117951, mean_q: 8.351300\n",
      "  1166/15000: episode: 18, duration: 0.659s, episode steps: 182, steps per second: 276, episode reward: 182.000, mean reward: 1.000 [1.000, 1.000], mean action: 0.467 [0.000, 1.000], mean observation: -0.250 [-2.192, 0.431], loss: 0.113982, mean_absolute_error: 4.701606, mean_q: 9.460377\n",
      "  1287/15000: episode: 19, duration: 0.450s, episode steps: 121, steps per second: 269, episode reward: 121.000, mean reward: 1.000 [1.000, 1.000], mean action: 0.512 [0.000, 1.000], mean observation: 0.098 [-0.402, 0.864], loss: 0.098188, mean_absolute_error: 5.278203, mean_q: 10.662915\n",
      "  1487/15000: episode: 20, duration: 0.723s, episode steps: 200, steps per second: 276, episode reward: 200.000, mean reward: 1.000 [1.000, 1.000], mean action: 0.520 [0.000, 1.000], mean observation: 0.126 [-0.753, 1.675], loss: 0.155823, mean_absolute_error: 5.933314, mean_q: 11.950133\n",
      "  1559/15000: episode: 21, duration: 0.268s, episode steps: 72, steps per second: 269, episode reward: 72.000, mean reward: 1.000 [1.000, 1.000], mean action: 0.542 [0.000, 1.000], mean observation: 0.236 [-0.435, 1.115], loss: 0.164400, mean_absolute_error: 6.478757, mean_q: 13.004268\n",
      "  1651/15000: episode: 22, duration: 0.337s, episode steps: 92, steps per second: 273, episode reward: 92.000, mean reward: 1.000 [1.000, 1.000], mean action: 0.576 [0.000, 1.000], mean observation: 0.075 [-3.215, 2.677], loss: 0.175722, mean_absolute_error: 6.786210, mean_q: 13.647220\n",
      "  1741/15000: episode: 23, duration: 0.326s, episode steps: 90, steps per second: 276, episode reward: 90.000, mean reward: 1.000 [1.000, 1.000], mean action: 0.578 [0.000, 1.000], mean observation: 0.178 [-3.022, 2.718], loss: 0.193858, mean_absolute_error: 7.127223, mean_q: 14.321170\n",
      "  1941/15000: episode: 24, duration: 0.727s, episode steps: 200, steps per second: 275, episode reward: 200.000, mean reward: 1.000 [1.000, 1.000], mean action: 0.510 [0.000, 1.000], mean observation: 0.103 [-0.596, 0.944], loss: 0.163240, mean_absolute_error: 7.709273, mean_q: 15.509997\n",
      "  2141/15000: episode: 25, duration: 0.720s, episode steps: 200, steps per second: 278, episode reward: 200.000, mean reward: 1.000 [1.000, 1.000], mean action: 0.510 [0.000, 1.000], mean observation: -0.011 [-0.601, 0.729], loss: 0.403495, mean_absolute_error: 8.457140, mean_q: 16.948782\n",
      "  2237/15000: episode: 26, duration: 0.353s, episode steps: 96, steps per second: 272, episode reward: 96.000, mean reward: 1.000 [1.000, 1.000], mean action: 0.573 [0.000, 1.000], mean observation: 0.163 [-2.792, 2.686], loss: 0.311705, mean_absolute_error: 9.068388, mean_q: 18.248306\n",
      "  2408/15000: episode: 27, duration: 0.616s, episode steps: 171, steps per second: 277, episode reward: 171.000, mean reward: 1.000 [1.000, 1.000], mean action: 0.515 [0.000, 1.000], mean observation: 0.102 [-0.570, 1.072], loss: 0.348138, mean_absolute_error: 9.453028, mean_q: 18.993359\n",
      "  2594/15000: episode: 28, duration: 0.670s, episode steps: 186, steps per second: 277, episode reward: 186.000, mean reward: 1.000 [1.000, 1.000], mean action: 0.548 [0.000, 1.000], mean observation: 0.087 [-3.325, 3.375], loss: 0.454973, mean_absolute_error: 10.074505, mean_q: 20.219831\n",
      "  2710/15000: episode: 29, duration: 0.428s, episode steps: 116, steps per second: 271, episode reward: 116.000, mean reward: 1.000 [1.000, 1.000], mean action: 0.466 [0.000, 1.000], mean observation: -0.170 [-1.413, 0.506], loss: 0.472633, mean_absolute_error: 10.584934, mean_q: 21.266026\n"
     ]
    },
    {
     "name": "stdout",
     "output_type": "stream",
     "text": [
      "  2850/15000: episode: 30, duration: 0.510s, episode steps: 140, steps per second: 275, episode reward: 140.000, mean reward: 1.000 [1.000, 1.000], mean action: 0.471 [0.000, 1.000], mean observation: -0.247 [-1.399, 0.408], loss: 0.440944, mean_absolute_error: 11.060410, mean_q: 22.272280\n",
      "  2921/15000: episode: 31, duration: 0.259s, episode steps: 71, steps per second: 274, episode reward: 71.000, mean reward: 1.000 [1.000, 1.000], mean action: 0.465 [0.000, 1.000], mean observation: -0.181 [-0.940, 0.337], loss: 0.805725, mean_absolute_error: 11.408578, mean_q: 22.915760\n",
      "  3046/15000: episode: 32, duration: 0.451s, episode steps: 125, steps per second: 277, episode reward: 125.000, mean reward: 1.000 [1.000, 1.000], mean action: 0.488 [0.000, 1.000], mean observation: -0.162 [-1.030, 0.483], loss: 0.519456, mean_absolute_error: 11.798341, mean_q: 23.597139\n",
      "  3246/15000: episode: 33, duration: 0.729s, episode steps: 200, steps per second: 274, episode reward: 200.000, mean reward: 1.000 [1.000, 1.000], mean action: 0.515 [0.000, 1.000], mean observation: 0.202 [-0.767, 1.408], loss: 0.640046, mean_absolute_error: 12.223457, mean_q: 24.510157\n",
      "  3446/15000: episode: 34, duration: 0.730s, episode steps: 200, steps per second: 274, episode reward: 200.000, mean reward: 1.000 [1.000, 1.000], mean action: 0.475 [0.000, 1.000], mean observation: -0.214 [-1.766, 0.444], loss: 0.619171, mean_absolute_error: 12.826590, mean_q: 25.705654\n",
      "  3533/15000: episode: 35, duration: 0.313s, episode steps: 87, steps per second: 278, episode reward: 87.000, mean reward: 1.000 [1.000, 1.000], mean action: 0.598 [0.000, 1.000], mean observation: 0.143 [-3.505, 3.225], loss: 0.484201, mean_absolute_error: 13.177001, mean_q: 26.463449\n",
      "  3733/15000: episode: 36, duration: 0.726s, episode steps: 200, steps per second: 276, episode reward: 200.000, mean reward: 1.000 [1.000, 1.000], mean action: 0.500 [0.000, 1.000], mean observation: 0.036 [-0.577, 0.550], loss: 0.789706, mean_absolute_error: 13.553279, mean_q: 27.207176\n",
      "  3933/15000: episode: 37, duration: 0.730s, episode steps: 200, steps per second: 274, episode reward: 200.000, mean reward: 1.000 [1.000, 1.000], mean action: 0.510 [0.000, 1.000], mean observation: 0.078 [-0.559, 0.758], loss: 0.679689, mean_absolute_error: 14.300293, mean_q: 28.708824\n",
      "  4133/15000: episode: 38, duration: 0.727s, episode steps: 200, steps per second: 275, episode reward: 200.000, mean reward: 1.000 [1.000, 1.000], mean action: 0.510 [0.000, 1.000], mean observation: 0.198 [-0.635, 1.400], loss: 0.655687, mean_absolute_error: 14.998778, mean_q: 30.136293\n",
      "  4288/15000: episode: 39, duration: 0.565s, episode steps: 155, steps per second: 274, episode reward: 155.000, mean reward: 1.000 [1.000, 1.000], mean action: 0.458 [0.000, 1.000], mean observation: -0.413 [-2.556, 0.542], loss: 0.713640, mean_absolute_error: 15.426253, mean_q: 31.004070\n",
      "  4466/15000: episode: 40, duration: 0.641s, episode steps: 178, steps per second: 278, episode reward: 178.000, mean reward: 1.000 [1.000, 1.000], mean action: 0.528 [0.000, 1.000], mean observation: 0.380 [-0.763, 2.405], loss: 1.137381, mean_absolute_error: 15.808215, mean_q: 31.723026\n",
      "  4625/15000: episode: 41, duration: 0.571s, episode steps: 159, steps per second: 279, episode reward: 159.000, mean reward: 1.000 [1.000, 1.000], mean action: 0.528 [0.000, 1.000], mean observation: 0.408 [-0.619, 2.413], loss: 0.568956, mean_absolute_error: 15.952143, mean_q: 32.107494\n",
      "  4825/15000: episode: 42, duration: 0.725s, episode steps: 200, steps per second: 276, episode reward: 200.000, mean reward: 1.000 [1.000, 1.000], mean action: 0.485 [0.000, 1.000], mean observation: -0.116 [-1.155, 0.550], loss: 1.061268, mean_absolute_error: 16.502357, mean_q: 33.108643\n",
      "  5025/15000: episode: 43, duration: 0.746s, episode steps: 200, steps per second: 268, episode reward: 200.000, mean reward: 1.000 [1.000, 1.000], mean action: 0.515 [0.000, 1.000], mean observation: 0.259 [-0.498, 1.681], loss: 1.227832, mean_absolute_error: 16.990076, mean_q: 34.080589\n",
      "  5225/15000: episode: 44, duration: 0.722s, episode steps: 200, steps per second: 277, episode reward: 200.000, mean reward: 1.000 [1.000, 1.000], mean action: 0.500 [0.000, 1.000], mean observation: -0.146 [-0.905, 0.763], loss: 0.990395, mean_absolute_error: 17.572203, mean_q: 35.304321\n",
      "  5425/15000: episode: 45, duration: 0.724s, episode steps: 200, steps per second: 276, episode reward: 200.000, mean reward: 1.000 [1.000, 1.000], mean action: 0.495 [0.000, 1.000], mean observation: -0.065 [-0.565, 0.545], loss: 0.861311, mean_absolute_error: 18.053192, mean_q: 36.302635\n",
      "  5625/15000: episode: 46, duration: 0.727s, episode steps: 200, steps per second: 275, episode reward: 200.000, mean reward: 1.000 [1.000, 1.000], mean action: 0.505 [0.000, 1.000], mean observation: 0.165 [-0.994, 1.355], loss: 1.243336, mean_absolute_error: 18.733631, mean_q: 37.738575\n",
      "  5825/15000: episode: 47, duration: 0.726s, episode steps: 200, steps per second: 275, episode reward: 200.000, mean reward: 1.000 [1.000, 1.000], mean action: 0.510 [0.000, 1.000], mean observation: 0.159 [-0.606, 0.971], loss: 0.979227, mean_absolute_error: 19.294224, mean_q: 38.878769\n",
      "  6025/15000: episode: 48, duration: 0.812s, episode steps: 200, steps per second: 246, episode reward: 200.000, mean reward: 1.000 [1.000, 1.000], mean action: 0.475 [0.000, 1.000], mean observation: -0.288 [-1.971, 0.434], loss: 1.634571, mean_absolute_error: 19.916574, mean_q: 40.077145\n",
      "  6225/15000: episode: 49, duration: 0.722s, episode steps: 200, steps per second: 277, episode reward: 200.000, mean reward: 1.000 [1.000, 1.000], mean action: 0.480 [0.000, 1.000], mean observation: -0.212 [-1.511, 0.574], loss: 2.095084, mean_absolute_error: 20.212126, mean_q: 40.575939\n",
      "  6425/15000: episode: 50, duration: 0.724s, episode steps: 200, steps per second: 276, episode reward: 200.000, mean reward: 1.000 [1.000, 1.000], mean action: 0.505 [0.000, 1.000], mean observation: -0.019 [-0.769, 0.752], loss: 1.868728, mean_absolute_error: 20.692366, mean_q: 41.625694\n",
      "  6625/15000: episode: 51, duration: 0.723s, episode steps: 200, steps per second: 277, episode reward: 200.000, mean reward: 1.000 [1.000, 1.000], mean action: 0.500 [0.000, 1.000], mean observation: 0.033 [-0.568, 0.551], loss: 1.306044, mean_absolute_error: 21.179853, mean_q: 42.679497\n",
      "  6825/15000: episode: 52, duration: 0.722s, episode steps: 200, steps per second: 277, episode reward: 200.000, mean reward: 1.000 [1.000, 1.000], mean action: 0.505 [0.000, 1.000], mean observation: 0.071 [-0.610, 0.717], loss: 2.214538, mean_absolute_error: 21.713652, mean_q: 43.675880\n",
      "  7025/15000: episode: 53, duration: 0.742s, episode steps: 200, steps per second: 269, episode reward: 200.000, mean reward: 1.000 [1.000, 1.000], mean action: 0.500 [0.000, 1.000], mean observation: -0.121 [-0.615, 0.531], loss: 2.207582, mean_absolute_error: 22.211958, mean_q: 44.664474\n",
      "  7225/15000: episode: 54, duration: 0.718s, episode steps: 200, steps per second: 278, episode reward: 200.000, mean reward: 1.000 [1.000, 1.000], mean action: 0.495 [0.000, 1.000], mean observation: -0.043 [-0.774, 0.911], loss: 1.440149, mean_absolute_error: 22.769403, mean_q: 45.826778\n",
      "  7419/15000: episode: 55, duration: 0.698s, episode steps: 194, steps per second: 278, episode reward: 194.000, mean reward: 1.000 [1.000, 1.000], mean action: 0.546 [0.000, 1.000], mean observation: 0.336 [-3.079, 3.613], loss: 2.898106, mean_absolute_error: 23.096031, mean_q: 46.360069\n",
      "  7619/15000: episode: 56, duration: 0.722s, episode steps: 200, steps per second: 277, episode reward: 200.000, mean reward: 1.000 [1.000, 1.000], mean action: 0.500 [0.000, 1.000], mean observation: -0.168 [-0.843, 0.604], loss: 3.014898, mean_absolute_error: 23.282715, mean_q: 46.823368\n",
      "  7819/15000: episode: 57, duration: 0.723s, episode steps: 200, steps per second: 277, episode reward: 200.000, mean reward: 1.000 [1.000, 1.000], mean action: 0.500 [0.000, 1.000], mean observation: 0.122 [-1.080, 1.127], loss: 2.823378, mean_absolute_error: 23.731924, mean_q: 47.676636\n",
      "  8019/15000: episode: 58, duration: 0.726s, episode steps: 200, steps per second: 276, episode reward: 200.000, mean reward: 1.000 [1.000, 1.000], mean action: 0.490 [0.000, 1.000], mean observation: -0.210 [-1.276, 0.889], loss: 2.887254, mean_absolute_error: 24.099669, mean_q: 48.437294\n"
     ]
    },
    {
     "name": "stdout",
     "output_type": "stream",
     "text": [
      "  8219/15000: episode: 59, duration: 0.721s, episode steps: 200, steps per second: 277, episode reward: 200.000, mean reward: 1.000 [1.000, 1.000], mean action: 0.500 [0.000, 1.000], mean observation: 0.005 [-0.619, 0.638], loss: 2.904309, mean_absolute_error: 24.556650, mean_q: 49.335400\n",
      "  8419/15000: episode: 60, duration: 0.721s, episode steps: 200, steps per second: 277, episode reward: 200.000, mean reward: 1.000 [1.000, 1.000], mean action: 0.505 [0.000, 1.000], mean observation: 0.143 [-0.493, 0.911], loss: 3.788210, mean_absolute_error: 24.846403, mean_q: 49.849003\n",
      "  8619/15000: episode: 61, duration: 0.721s, episode steps: 200, steps per second: 277, episode reward: 200.000, mean reward: 1.000 [1.000, 1.000], mean action: 0.500 [0.000, 1.000], mean observation: 0.000 [-0.582, 0.521], loss: 3.406561, mean_absolute_error: 25.239449, mean_q: 50.716148\n",
      "  8819/15000: episode: 62, duration: 0.723s, episode steps: 200, steps per second: 277, episode reward: 200.000, mean reward: 1.000 [1.000, 1.000], mean action: 0.500 [0.000, 1.000], mean observation: -0.096 [-0.504, 0.445], loss: 3.721917, mean_absolute_error: 25.741772, mean_q: 51.676983\n",
      "  9019/15000: episode: 63, duration: 0.723s, episode steps: 200, steps per second: 277, episode reward: 200.000, mean reward: 1.000 [1.000, 1.000], mean action: 0.505 [0.000, 1.000], mean observation: -0.062 [-0.589, 0.530], loss: 3.679796, mean_absolute_error: 25.976845, mean_q: 52.156418\n",
      "  9219/15000: episode: 64, duration: 0.722s, episode steps: 200, steps per second: 277, episode reward: 200.000, mean reward: 1.000 [1.000, 1.000], mean action: 0.500 [0.000, 1.000], mean observation: -0.024 [-0.597, 0.503], loss: 4.481641, mean_absolute_error: 26.483511, mean_q: 53.121971\n",
      "  9419/15000: episode: 65, duration: 0.725s, episode steps: 200, steps per second: 276, episode reward: 200.000, mean reward: 1.000 [1.000, 1.000], mean action: 0.500 [0.000, 1.000], mean observation: -0.036 [-0.494, 0.686], loss: 4.379649, mean_absolute_error: 26.761757, mean_q: 53.820889\n",
      "  9619/15000: episode: 66, duration: 0.722s, episode steps: 200, steps per second: 277, episode reward: 200.000, mean reward: 1.000 [1.000, 1.000], mean action: 0.500 [0.000, 1.000], mean observation: -0.042 [-0.563, 0.753], loss: 4.184411, mean_absolute_error: 27.037687, mean_q: 54.326271\n",
      "  9819/15000: episode: 67, duration: 0.733s, episode steps: 200, steps per second: 273, episode reward: 200.000, mean reward: 1.000 [1.000, 1.000], mean action: 0.505 [0.000, 1.000], mean observation: -0.060 [-0.616, 0.605], loss: 3.510190, mean_absolute_error: 27.429750, mean_q: 55.214405\n",
      " 10019/15000: episode: 68, duration: 0.728s, episode steps: 200, steps per second: 275, episode reward: 200.000, mean reward: 1.000 [1.000, 1.000], mean action: 0.500 [0.000, 1.000], mean observation: -0.033 [-0.704, 0.528], loss: 4.723784, mean_absolute_error: 27.864561, mean_q: 55.979862\n",
      " 10219/15000: episode: 69, duration: 0.718s, episode steps: 200, steps per second: 278, episode reward: 200.000, mean reward: 1.000 [1.000, 1.000], mean action: 0.500 [0.000, 1.000], mean observation: -0.079 [-0.746, 0.691], loss: 3.994802, mean_absolute_error: 28.319450, mean_q: 56.981548\n",
      " 10419/15000: episode: 70, duration: 0.720s, episode steps: 200, steps per second: 278, episode reward: 200.000, mean reward: 1.000 [1.000, 1.000], mean action: 0.505 [0.000, 1.000], mean observation: 0.046 [-0.762, 1.085], loss: 5.015623, mean_absolute_error: 28.683954, mean_q: 57.591751\n",
      " 10619/15000: episode: 71, duration: 0.721s, episode steps: 200, steps per second: 277, episode reward: 200.000, mean reward: 1.000 [1.000, 1.000], mean action: 0.505 [0.000, 1.000], mean observation: 0.125 [-0.458, 0.737], loss: 4.948232, mean_absolute_error: 28.918325, mean_q: 58.028057\n",
      " 10819/15000: episode: 72, duration: 0.732s, episode steps: 200, steps per second: 273, episode reward: 200.000, mean reward: 1.000 [1.000, 1.000], mean action: 0.505 [0.000, 1.000], mean observation: 0.166 [-0.574, 0.964], loss: 2.489165, mean_absolute_error: 29.296436, mean_q: 58.947922\n",
      " 11019/15000: episode: 73, duration: 0.727s, episode steps: 200, steps per second: 275, episode reward: 200.000, mean reward: 1.000 [1.000, 1.000], mean action: 0.500 [0.000, 1.000], mean observation: -0.039 [-0.618, 0.640], loss: 6.657869, mean_absolute_error: 29.674414, mean_q: 59.452744\n",
      " 11219/15000: episode: 74, duration: 0.728s, episode steps: 200, steps per second: 275, episode reward: 200.000, mean reward: 1.000 [1.000, 1.000], mean action: 0.500 [0.000, 1.000], mean observation: 0.135 [-0.486, 0.671], loss: 6.539383, mean_absolute_error: 29.781330, mean_q: 59.634033\n",
      " 11419/15000: episode: 75, duration: 0.720s, episode steps: 200, steps per second: 278, episode reward: 200.000, mean reward: 1.000 [1.000, 1.000], mean action: 0.505 [0.000, 1.000], mean observation: 0.136 [-0.570, 0.856], loss: 6.139899, mean_absolute_error: 30.046001, mean_q: 60.128700\n",
      " 11619/15000: episode: 76, duration: 0.729s, episode steps: 200, steps per second: 274, episode reward: 200.000, mean reward: 1.000 [1.000, 1.000], mean action: 0.500 [0.000, 1.000], mean observation: 0.221 [-0.615, 1.164], loss: 6.647806, mean_absolute_error: 30.185511, mean_q: 60.515324\n",
      " 11819/15000: episode: 77, duration: 0.722s, episode steps: 200, steps per second: 277, episode reward: 200.000, mean reward: 1.000 [1.000, 1.000], mean action: 0.500 [0.000, 1.000], mean observation: 0.014 [-0.674, 0.802], loss: 5.164791, mean_absolute_error: 30.557013, mean_q: 61.264599\n",
      " 12019/15000: episode: 78, duration: 0.726s, episode steps: 200, steps per second: 276, episode reward: 200.000, mean reward: 1.000 [1.000, 1.000], mean action: 0.500 [0.000, 1.000], mean observation: 0.159 [-0.521, 0.765], loss: 6.558509, mean_absolute_error: 30.733187, mean_q: 61.679039\n",
      " 12219/15000: episode: 79, duration: 0.727s, episode steps: 200, steps per second: 275, episode reward: 200.000, mean reward: 1.000 [1.000, 1.000], mean action: 0.500 [0.000, 1.000], mean observation: -0.070 [-0.776, 0.616], loss: 4.854669, mean_absolute_error: 31.034878, mean_q: 62.243717\n",
      " 12419/15000: episode: 80, duration: 0.723s, episode steps: 200, steps per second: 277, episode reward: 200.000, mean reward: 1.000 [1.000, 1.000], mean action: 0.500 [0.000, 1.000], mean observation: -0.011 [-0.652, 0.561], loss: 5.920627, mean_absolute_error: 31.251064, mean_q: 62.603184\n",
      " 12619/15000: episode: 81, duration: 0.726s, episode steps: 200, steps per second: 276, episode reward: 200.000, mean reward: 1.000 [1.000, 1.000], mean action: 0.500 [0.000, 1.000], mean observation: -0.039 [-0.490, 0.551], loss: 6.374333, mean_absolute_error: 31.703072, mean_q: 63.433842\n",
      " 12819/15000: episode: 82, duration: 0.727s, episode steps: 200, steps per second: 275, episode reward: 200.000, mean reward: 1.000 [1.000, 1.000], mean action: 0.500 [0.000, 1.000], mean observation: -0.019 [-0.738, 0.893], loss: 6.246514, mean_absolute_error: 31.918648, mean_q: 63.913574\n",
      " 13019/15000: episode: 83, duration: 0.724s, episode steps: 200, steps per second: 276, episode reward: 200.000, mean reward: 1.000 [1.000, 1.000], mean action: 0.500 [0.000, 1.000], mean observation: 0.064 [-0.600, 0.710], loss: 6.700735, mean_absolute_error: 32.180923, mean_q: 64.474045\n",
      " 13219/15000: episode: 84, duration: 0.732s, episode steps: 200, steps per second: 273, episode reward: 200.000, mean reward: 1.000 [1.000, 1.000], mean action: 0.505 [0.000, 1.000], mean observation: 0.100 [-0.929, 0.813], loss: 6.796552, mean_absolute_error: 32.434402, mean_q: 65.005150\n",
      " 13419/15000: episode: 85, duration: 0.731s, episode steps: 200, steps per second: 273, episode reward: 200.000, mean reward: 1.000 [1.000, 1.000], mean action: 0.505 [0.000, 1.000], mean observation: 0.136 [-0.632, 0.755], loss: 7.446846, mean_absolute_error: 32.712936, mean_q: 65.590393\n",
      " 13619/15000: episode: 86, duration: 0.722s, episode steps: 200, steps per second: 277, episode reward: 200.000, mean reward: 1.000 [1.000, 1.000], mean action: 0.500 [0.000, 1.000], mean observation: 0.066 [-0.618, 0.683], loss: 8.191636, mean_absolute_error: 32.976391, mean_q: 66.011208\n",
      " 13819/15000: episode: 87, duration: 0.749s, episode steps: 200, steps per second: 267, episode reward: 200.000, mean reward: 1.000 [1.000, 1.000], mean action: 0.500 [0.000, 1.000], mean observation: -0.014 [-0.762, 0.626], loss: 7.303013, mean_absolute_error: 33.172665, mean_q: 66.415260\n"
     ]
    },
    {
     "name": "stdout",
     "output_type": "stream",
     "text": [
      " 14019/15000: episode: 88, duration: 0.719s, episode steps: 200, steps per second: 278, episode reward: 200.000, mean reward: 1.000 [1.000, 1.000], mean action: 0.500 [0.000, 1.000], mean observation: 0.027 [-0.639, 0.540], loss: 9.149343, mean_absolute_error: 33.441250, mean_q: 66.844971\n",
      " 14219/15000: episode: 89, duration: 0.715s, episode steps: 200, steps per second: 280, episode reward: 200.000, mean reward: 1.000 [1.000, 1.000], mean action: 0.505 [0.000, 1.000], mean observation: 0.083 [-0.504, 0.574], loss: 8.004816, mean_absolute_error: 33.627632, mean_q: 67.330170\n",
      " 14419/15000: episode: 90, duration: 0.719s, episode steps: 200, steps per second: 278, episode reward: 200.000, mean reward: 1.000 [1.000, 1.000], mean action: 0.500 [0.000, 1.000], mean observation: 0.020 [-0.742, 0.618], loss: 9.892067, mean_absolute_error: 33.717098, mean_q: 67.481094\n",
      " 14619/15000: episode: 91, duration: 0.723s, episode steps: 200, steps per second: 277, episode reward: 200.000, mean reward: 1.000 [1.000, 1.000], mean action: 0.505 [0.000, 1.000], mean observation: 0.012 [-0.745, 0.629], loss: 10.097164, mean_absolute_error: 34.006855, mean_q: 68.074615\n",
      " 14819/15000: episode: 92, duration: 0.717s, episode steps: 200, steps per second: 279, episode reward: 200.000, mean reward: 1.000 [1.000, 1.000], mean action: 0.510 [0.000, 1.000], mean observation: 0.085 [-0.666, 0.916], loss: 9.534860, mean_absolute_error: 34.069565, mean_q: 68.158981\n",
      "done, took 55.254 seconds\n"
     ]
    },
    {
     "data": {
      "text/plain": [
       "<keras.callbacks.History at 0x7f1003b44e80>"
      ]
     },
     "execution_count": 21,
     "metadata": {},
     "output_type": "execute_result"
    }
   ],
   "source": [
    "dqn.fit(env, nb_steps=15000, visualize=True, verbose=2)"
   ]
  },
  {
   "cell_type": "code",
   "execution_count": 22,
   "metadata": {},
   "outputs": [
    {
     "name": "stdout",
     "output_type": "stream",
     "text": [
      "Testing for 100 episodes ...\n",
      "Episode 1: reward: 200.000, steps: 200\n",
      "Episode 2: reward: 200.000, steps: 200\n",
      "Episode 3: reward: 200.000, steps: 200\n",
      "Episode 4: reward: 200.000, steps: 200\n",
      "Episode 5: reward: 200.000, steps: 200\n",
      "Episode 6: reward: 200.000, steps: 200\n",
      "Episode 7: reward: 200.000, steps: 200\n",
      "Episode 8: reward: 200.000, steps: 200\n",
      "Episode 9: reward: 200.000, steps: 200\n",
      "Episode 10: reward: 200.000, steps: 200\n",
      "Episode 11: reward: 200.000, steps: 200\n",
      "Episode 12: reward: 200.000, steps: 200\n",
      "Episode 13: reward: 200.000, steps: 200\n",
      "Episode 14: reward: 200.000, steps: 200\n",
      "Episode 15: reward: 200.000, steps: 200\n",
      "Episode 16: reward: 200.000, steps: 200\n",
      "Episode 17: reward: 200.000, steps: 200\n",
      "Episode 18: reward: 200.000, steps: 200\n",
      "Episode 19: reward: 200.000, steps: 200\n",
      "Episode 20: reward: 200.000, steps: 200\n",
      "Episode 21: reward: 200.000, steps: 200\n",
      "Episode 22: reward: 200.000, steps: 200\n",
      "Episode 23: reward: 200.000, steps: 200\n",
      "Episode 24: reward: 200.000, steps: 200\n",
      "Episode 25: reward: 200.000, steps: 200\n",
      "Episode 26: reward: 200.000, steps: 200\n",
      "Episode 27: reward: 200.000, steps: 200\n",
      "Episode 28: reward: 200.000, steps: 200\n",
      "Episode 29: reward: 200.000, steps: 200\n",
      "Episode 30: reward: 200.000, steps: 200\n",
      "Episode 31: reward: 200.000, steps: 200\n",
      "Episode 32: reward: 200.000, steps: 200\n",
      "Episode 33: reward: 200.000, steps: 200\n",
      "Episode 34: reward: 200.000, steps: 200\n",
      "Episode 35: reward: 200.000, steps: 200\n",
      "Episode 36: reward: 200.000, steps: 200\n",
      "Episode 37: reward: 200.000, steps: 200\n",
      "Episode 38: reward: 200.000, steps: 200\n",
      "Episode 39: reward: 200.000, steps: 200\n",
      "Episode 40: reward: 200.000, steps: 200\n",
      "Episode 41: reward: 200.000, steps: 200\n",
      "Episode 42: reward: 200.000, steps: 200\n",
      "Episode 43: reward: 200.000, steps: 200\n",
      "Episode 44: reward: 200.000, steps: 200\n",
      "Episode 45: reward: 200.000, steps: 200\n",
      "Episode 46: reward: 200.000, steps: 200\n",
      "Episode 47: reward: 200.000, steps: 200\n",
      "Episode 48: reward: 200.000, steps: 200\n",
      "Episode 49: reward: 200.000, steps: 200\n",
      "Episode 50: reward: 200.000, steps: 200\n",
      "Episode 51: reward: 200.000, steps: 200\n",
      "Episode 52: reward: 200.000, steps: 200\n",
      "Episode 53: reward: 200.000, steps: 200\n",
      "Episode 54: reward: 200.000, steps: 200\n",
      "Episode 55: reward: 200.000, steps: 200\n",
      "Episode 56: reward: 200.000, steps: 200\n",
      "Episode 57: reward: 200.000, steps: 200\n",
      "Episode 58: reward: 200.000, steps: 200\n",
      "Episode 59: reward: 200.000, steps: 200\n",
      "Episode 60: reward: 200.000, steps: 200\n",
      "Episode 61: reward: 200.000, steps: 200\n",
      "Episode 62: reward: 200.000, steps: 200\n",
      "Episode 63: reward: 200.000, steps: 200\n",
      "Episode 64: reward: 200.000, steps: 200\n",
      "Episode 65: reward: 200.000, steps: 200\n",
      "Episode 66: reward: 200.000, steps: 200\n",
      "Episode 67: reward: 200.000, steps: 200\n",
      "Episode 68: reward: 200.000, steps: 200\n",
      "Episode 69: reward: 200.000, steps: 200\n",
      "Episode 70: reward: 200.000, steps: 200\n",
      "Episode 71: reward: 200.000, steps: 200\n",
      "Episode 72: reward: 200.000, steps: 200\n",
      "Episode 73: reward: 200.000, steps: 200\n",
      "Episode 74: reward: 200.000, steps: 200\n",
      "Episode 75: reward: 200.000, steps: 200\n",
      "Episode 76: reward: 200.000, steps: 200\n",
      "Episode 77: reward: 200.000, steps: 200\n",
      "Episode 78: reward: 200.000, steps: 200\n",
      "Episode 79: reward: 200.000, steps: 200\n",
      "Episode 80: reward: 200.000, steps: 200\n",
      "Episode 81: reward: 200.000, steps: 200\n",
      "Episode 82: reward: 200.000, steps: 200\n",
      "Episode 83: reward: 200.000, steps: 200\n",
      "Episode 84: reward: 200.000, steps: 200\n",
      "Episode 85: reward: 200.000, steps: 200\n",
      "Episode 86: reward: 200.000, steps: 200\n",
      "Episode 87: reward: 200.000, steps: 200\n",
      "Episode 88: reward: 200.000, steps: 200\n",
      "Episode 89: reward: 200.000, steps: 200\n",
      "Episode 90: reward: 200.000, steps: 200\n",
      "Episode 91: reward: 200.000, steps: 200\n",
      "Episode 92: reward: 200.000, steps: 200\n",
      "Episode 93: reward: 200.000, steps: 200\n",
      "Episode 94: reward: 200.000, steps: 200\n",
      "Episode 95: reward: 200.000, steps: 200\n",
      "Episode 96: reward: 200.000, steps: 200\n",
      "Episode 97: reward: 200.000, steps: 200\n",
      "Episode 98: reward: 200.000, steps: 200\n",
      "Episode 99: reward: 200.000, steps: 200\n",
      "Episode 100: reward: 200.000, steps: 200\n"
     ]
    },
    {
     "data": {
      "text/plain": [
       "<keras.callbacks.History at 0x7f1003b44da0>"
      ]
     },
     "execution_count": 22,
     "metadata": {},
     "output_type": "execute_result"
    }
   ],
   "source": [
    "dqn.test(env, nb_episodes=100, visualize=True)"
   ]
  },
  {
   "cell_type": "code",
   "execution_count": 23,
   "metadata": {},
   "outputs": [],
   "source": [
    "env.close()"
   ]
  },
  {
   "cell_type": "code",
   "execution_count": null,
   "metadata": {},
   "outputs": [],
   "source": []
  }
 ],
 "metadata": {
  "kernelspec": {
   "display_name": "Python 3",
   "language": "python",
   "name": "python3"
  },
  "language_info": {
   "codemirror_mode": {
    "name": "ipython",
    "version": 3
   },
   "file_extension": ".py",
   "mimetype": "text/x-python",
   "name": "python",
   "nbconvert_exporter": "python",
   "pygments_lexer": "ipython3",
   "version": "3.5.2"
  }
 },
 "nbformat": 4,
 "nbformat_minor": 2
}
